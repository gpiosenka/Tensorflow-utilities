{
 "cells": [
  {
   "cell_type": "markdown",
   "metadata": {},
   "source": [
    "### This function operates on image files and  renames files numerically and can also resize the images\n",
    "#### If you download images files from an internet search you will notice the files often have very long \n",
    "#### and un-weildy names often with strange characters in the name. Also these files may come in a \n",
    "#### multitude of image formats as denotd by their extensions. After I download these images I find it\n",
    "#### convenient to rename the files and generally to convert them all to a common image format.\n",
    "#### This function achieves that purpose. It will nename the files in a numerical order starting with a \n",
    "#### number you specificy. \n",
    "#### You specify a new file extension to converted all files to the image format specified by the extension.\n",
    "#### Alternatively you can specify parameter new_ext='same' to preserve the original extension.\n",
    "####  You can also elect to risize all the images by specifying the parameters height and width.\n",
    "####  File are nenamed in a numerical sequence starting with the value assigned to parameter snum.\n",
    "####  Note- files are rename using \"zeros padding\" which preserves the order that files are processed\n",
    "#### in for python functions.  Unlike windows, files in most python functions read files alphanumerically.\n",
    "#### For example is you have files in a directory with names 1.jpg, 2.jpg, ... 9.jpg, 10,jpg the order in which\n",
    "#### the will be processed is not the numeric order but the alphabetic order. Thus they will be \n",
    "#### processed in the order 1.jpg, 10.jpg, 2.jpg etc. The use of \"zeros' padding will prevent this.\n",
    "#### With zero padding the files are renamed 01.jpg, 02.jpg .. 09.jpg, 10.jpg so the are processed in\n",
    "#### the order you would expect.\n",
    "### Use:\n",
    "#####    1- place the images you want processed in a single directory. I call it the source_dir.  place ONLY image files in the directory.\n",
    "#####     NOTE this function use the cv2 module so   file types are limited to having extensions 'jpg', 'jpe', 'jpeg', 'png', 'bmp', 'tiff', 'jfif' .\n",
    "#####     2 create a python environment with the module cv2 (OpenCV) and tqdm installed\n",
    "#####     3 The function call is of the form rename (source_dir, snum=1, new_ext='same', height=None, width=None) where:\n",
    "#####         dir is a string denoting the full path to the directory containing the image files\n",
    "#####         snum is an integer (default value=1) that defines the starting number for the numerical renaming of the files\n",
    "#####         new_ext is a string (default= 'same) denoting the file format all image files will be  converted to. \n",
    "#####        If set to 'same' the original extensions will be preserved\n",
    "#####       height is an integer specify the new height of all images - defualts to None - meaning no resizing of the images\n",
    "#####       width is an integer specify the new width of all images - defualts to None - meaning no resizing of the images\n",
    "            \n",
    "#### Processing:\n",
    "#####      1 The function first checks the input parameters and prints out a message if errors are detected\n",
    "#####      2 Next the files in dir are checked to verify the file extensions are in the list of acceptable extensions\n",
    "#####         as defined in the list above. If files are found with invalid extensions, a sub directory called\n",
    "#####         \"bad_ext\" is created within the source_dir and the file with the improper extension is removed from\n",
    "#####          source_dir and stored in the sub directory. A bad_list is created and the filenameshaving improper\n",
    "#####          extensions are stored in that list and provided as part of the functions return tupple.\n",
    "#####       3 Next each of the remaining files in dir are processed sequentially. CV2 is used  to read in the image file.\n",
    "#####          If an error is encounter the image file is corrupted and can not be processed.The file name is added \n",
    "#####          to the bad_list and the file is  removed from the source_dir and placed into the \"bad_ext subdirectory\n",
    "#####       4 Now the source_dir directory only  contains image files that can be processed. These files are then \n",
    "#####           renamed sequentially start from snum and if parameters height and width are specified the image\n",
    "#####           is resized. If parameter new_ext is not set to 'same' then the files are written back to the source_dir\n",
    "#####           with the new extension you specified\n",
    "\n",
    "#### returns: \n",
    "#####        The function returns a tupple of the form (status, bad_list) where:\n",
    "#####       status is a boolean. It is set to true if at least one image file was  processed to completetion.\n",
    "#####        Otherwise it is set to False\n",
    "#####        bad_list is a list of file names. If files in dir were found to have  extensions not in the list above,\n",
    "#####        or if an image file could not be read by cv2  the file name is included in the list. \n",
    "#####       These files will be stored in the   sub directory bad ext in the source_dir"
   ]
  },
  {
   "cell_type": "markdown",
   "metadata": {},
   "source": [
    "#### Import needed modules"
   ]
  },
  {
   "cell_type": "code",
   "execution_count": 1,
   "metadata": {},
   "outputs": [],
   "source": [
    "import os\n",
    "import shutil \n",
    "import cv2\n",
    "from tqdm import tqdm"
   ]
  },
  {
   "cell_type": "markdown",
   "metadata": {},
   "source": [
    "#### The function below checks the input parameters for errors and files for extension types"
   ]
  },
  {
   "cell_type": "code",
   "execution_count": 2,
   "metadata": {},
   "outputs": [],
   "source": [
    "def check_dir(source_dir, ext_list, n_ext, height, width):\n",
    "    f_list=[]  # list to hold acceptable files\n",
    "    bad_list=[] # list to hold file names with improper extensions or corrupted image files\n",
    "    one_good=False  # set to true if at least one good image was processed and saved\n",
    "    processed=0 # initialize count of files processed\n",
    "    save_path=os.path.join(source_dir,'bad ext') # create path to store the bad  files\n",
    "    if os.path.isdir(source_dir)==False: # check if source directory contains files\n",
    "        print('\\n The directory {0} does not exist, program  is terminating'.format(source_dir))\n",
    "        return (False, None, None, processed)\n",
    "    mod_list=['jpg', 'jpe', 'jpeg', 'png', 'bmp', 'tiff']\n",
    "    if n_ext not in mod_list and n_ext !='same': # make sure new extension if specified is in acceptable list\n",
    "        msg='\\nthe new extension you specified {0} is not in the list of acceptable extensions '\n",
    "        print(msg.format(n_ext))\n",
    "        print('The list of valid extensions is ', mod_list, ' **** program terminated ****')\n",
    "        return (False, None, None, processed)\n",
    "    if ( height !=None and width==None) or (height ==None and width != None): # if resizing make sure both height and width are specified\n",
    "        print(' *** ERROR *** you must specify both the height and width to resize the images - Program Terminating')\n",
    "        return (False, None, None, processed)\n",
    "    else:\n",
    "        dir_list=os.listdir(source_dir) # create a list of files in the source_dir\n",
    "        if len(dir_list)==0: # check if there are files in the source_dir\n",
    "            print('\\ndirectory {0} is empty, program is terminating'.format(source_dir))\n",
    "            return (False,None,None, processed)\n",
    "        else:            \n",
    "            for d in tqdm(dir_list): # iterate through the files\n",
    "                f_path=os.path.join(source_dir,d) # path to the file\n",
    "                if os.path.isfile(f_path): # check that it is a file and not a directory\n",
    "                    processed=processed +1 # increment files processed counter\n",
    "                    index=f_path.rfind('.')  # find the location of the last . character                      \n",
    "                    ext=f_path[index+1:] # this is the file extension like jpg, bmp etc\n",
    "                    if ext==\"jfif\": # a jfif extension is the same as a jpg extension\n",
    "                        ext='jpg'   # rename the files extension as jpg\n",
    "                        fname=f_path[:index] # store the file name without the  original extension\n",
    "                        new_path=fname + '.jpg'  # rename the file with a .jpg extension                      \n",
    "                        shutil.copy(f_path,new_path) # rename the file in the source directory\n",
    "                        os.remove(f_path)  # remove the original file from the source directory                      \n",
    "                        f_path=new_path\n",
    "                    if ext.lower() in ext_list: # for the current file check if its extension is in the extension list\n",
    "                        # extensions are valid but are they really image files?\n",
    "                        # try to read in each file to test it\n",
    "                        try:\n",
    "                            img= cv2.imread(f_path) # try to read in the image\n",
    "                            imsize=img.size # if the image was not read this line will create an exception\n",
    "                            if height !=None and width !=None:\n",
    "                                img=cv2.resize(img, (width, height))   # resize the image                             \n",
    "                            cv2.imwrite( f_path, img) # write the image back to the source_dir\n",
    "                            f_list.append(f_path)  # add this this file path to list of good images\n",
    "                            one_good=True  # note there is at lead one valid image file                                                      \n",
    "                        except(AttributeError ):\n",
    "                            # file is not a valid image file\n",
    "                            msg='\\nfile {0} is not a valid image file, it wil be removed and saved to {1}'\n",
    "                            print(msg.format(f_path, save_path ))\n",
    "                            bad_list.append(f_path) # append the file path to the list of bad images\n",
    "                    else:\n",
    "                        bad_list.append(f_path) # extension of the file was not in the list off acceptable file types\n",
    "        if one_good==False:\n",
    "            print('There are no files in {0} that have the proper image extensions'.format(dir))\n",
    "            return (False, None, bad_list, processed)\n",
    "        else:\n",
    "            if len(bad_list)==0: # check if all files were good\n",
    "                return (True,f_list, None, processed)\n",
    "            else:   # there are some bad files in the source directory              \n",
    "                #msg='\\n {0} files in {1} have invalid extensions or are not valid image files and will be moved to {2}'\n",
    "                #print(msg.format(len(bad_list), dir, save_path))\n",
    "                if os.path.isdir(save_path)==False:\n",
    "                    os.mkdir(save_path)  # make a directory to store the bad image files\n",
    "                for f in bad_list:\n",
    "                    # extract the file name\n",
    "                    fsplit=f.split('\\\\')                    \n",
    "                    fname=fsplit[len(fsplit)-1]                    \n",
    "                    test_path=os.path.join(save_path,fname)                    \n",
    "                    if os.path.isfile(test_path)==True:\n",
    "                        os.remove(f_path)\n",
    "                    else:\n",
    "                        dest = shutil.move(f, save_path)    # store the bad file to the save_dir                \n",
    "                msg='\\n{0} files have been removed from {1} and stored in {2}'\n",
    "                print(msg.format(len(bad_list),source_dir, save_path ))\n",
    "                return (True, f_list, bad_list, processed)"
   ]
  },
  {
   "cell_type": "markdown",
   "metadata": {},
   "source": [
    "This is the main function"
   ]
  },
  {
   "cell_type": "code",
   "execution_count": 3,
   "metadata": {},
   "outputs": [],
   "source": [
    "def rename (source_dir, snum=1, new_ext='same', height=None, width=None):\n",
    "    f_dict={}\n",
    "    if new_ext !=None:\n",
    "        new_ext=new_ext.lower()\n",
    "    ext_list=['jpg', 'jpe', 'jpeg', 'png', 'bmp', 'tiff', 'jfif'] # list of acceptable file types\n",
    "    status, f_list, bad_list, processed=check_dir(source_dir, ext_list, new_ext, height, width) # run a set of checks on input data\n",
    "    if status==False:\n",
    "        return (status, bad_list)    \n",
    "    else:  #determine the amount of preceeding zeros to pad the file name with to preserve order        \n",
    "        pad=0\n",
    "        mod = 10\n",
    "        fc=len(f_list)  # determine number of goodfiles toprocess      \n",
    "        for i in range(1, fc + 1): # skip i=0 because 0 modulo anything is 0 and we don't want to increment pad\n",
    "            if i % mod == 0:\n",
    "                pad=pad+1                    \n",
    "                mod =mod * 10\n",
    "        #  make all file names unique by adding a numeric extension in place of real extension\n",
    "        for i in range(0,fc):\n",
    "            f=f_list[i] \n",
    "            f_path=os.path.join(source_dir,f) #full path to the file\n",
    "            index=f.rfind('.')\n",
    "            fname=f_path[:index]\n",
    "            ext=f[index:]   # this includes the period (.)\n",
    "            if ext=='.jfif':  # jfif is the same as a jpg file but cv2 and other modules don't process jfif files\n",
    "                ext='.jpg'\n",
    "            #to avoid trying to rename a file with a name that is in the directory\n",
    "            # give each file a new unique numerical extension\n",
    "            #sore the original extension in a dictionay where the key is the file name\n",
    "            fnew=fname +'.' + str(i+1)\n",
    "            new_path=os.path.join(source_dir, fnew)            \n",
    "            os.rename(f_path, new_path)\n",
    "            f_dict[fname]=ext  #key is new file name, value is original extension\n",
    "            #now all full filenames are unique with unique extensions\n",
    "        f_list=os.listdir (source_dir)\n",
    "        i=0\n",
    "        good=0\n",
    "        for d in tqdm(f_list):\n",
    "            d_path=os.path.join (source_dir,d)\n",
    "            if os.path.isdir(d_path)==False:                \n",
    "                index=d_path.rfind('.')\n",
    "                fname=d_path[:index]               \n",
    "                ext=f_dict[fname]                \n",
    "                fname=str(i + snum).zfill(pad+1) + ext\n",
    "                i=i+1\n",
    "                new_path=os.path.join(source_dir, fname)\n",
    "                shutil.copy(d_path,new_path)                \n",
    "                os.remove(d_path)                \n",
    "                if new_ext !=None:                                        \n",
    "                    index=new_path.rfind('.')\n",
    "                    old_ext=new_path[index+1:]\n",
    "                    if new_ext !='same':\n",
    "                        fname=new_path[:index]\n",
    "                        new_name=fname + '.' + new_ext\n",
    "                        img= cv2.imread(new_path)\n",
    "                        cv2.imwrite( new_name, img)                        \n",
    "                        os.remove(new_path)\n",
    "        if new_ext=='same':            \n",
    "            msg='{0} files were processed {1} files were renamed and saved with the original extensions'.format(processed,fc)\n",
    "        else:\n",
    "             msg='{0} files were processed {1} files and saved with new extension {2}'.format(processed,fc, new_ext) \n",
    "        print (msg)\n",
    "        return (True, bad_list)"
   ]
  },
  {
   "cell_type": "code",
   "execution_count": 4,
   "metadata": {
    "scrolled": false
   },
   "outputs": [
    {
     "name": "stderr",
     "output_type": "stream",
     "text": [
      "100%|██████████████████████████████████████████████████████████████████████████████████| 10/10 [00:00<00:00, 79.20it/s]\n",
      "100%|█████████████████████████████████████████████████████████████████████████████████| 10/10 [00:00<00:00, 208.35it/s]"
     ]
    },
    {
     "name": "stdout",
     "output_type": "stream",
     "text": [
      "10 files were processed 10 files were renamed and saved with the original extensions\n"
     ]
    },
    {
     "name": "stderr",
     "output_type": "stream",
     "text": [
      "\n"
     ]
    }
   ],
   "source": [
    "status, bad_list=rename(r'C:\\Temp\\rename tests')                                                      "
   ]
  }
 ],
 "metadata": {
  "kernelspec": {
   "display_name": "Python 3",
   "language": "python",
   "name": "python3"
  },
  "language_info": {
   "codemirror_mode": {
    "name": "ipython",
    "version": 3
   },
   "file_extension": ".py",
   "mimetype": "text/x-python",
   "name": "python",
   "nbconvert_exporter": "python",
   "pygments_lexer": "ipython3",
   "version": "3.7.7"
  }
 },
 "nbformat": 4,
 "nbformat_minor": 2
}
