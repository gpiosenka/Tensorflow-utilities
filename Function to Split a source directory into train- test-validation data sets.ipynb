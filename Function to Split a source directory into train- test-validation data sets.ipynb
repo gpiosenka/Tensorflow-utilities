{
 "cells": [
  {
   "cell_type": "markdown",
   "metadata": {},
   "source": [
    "### This function splits the files in the s_dir into train, test, and validation files stored in the dest_dir.\n",
    "#### s_dir is the full path to the directory containing the files to be split\n",
    "#### dest_dir is the full path to the destination directory. If it does not exist it is created.\n",
    "#### train_size is a float between 0.0 and 1.0 indicating the percentage of file to be allocated as training files\n",
    "#### test_size is a float between 0.0 and 1.0 indicating the percentage of file to be allocated as test files\n",
    "#### In the dest_dir three sub directories 'train', 'test' and 'valid' are createdand used to store the training files,\n",
    "#### test files and validation files.\n",
    "#### If these sub directories already exist they are check for existing content.If content is found a notice is printed\n",
    "#### to that effect. The user is then prompted to enter 'D' to delete the content, 'Q' to terminate program execution\n",
    "#### or 'C' to continue. If 'C' is selected the content is not removed however files may be over written if any existing\n",
    "#### files have the same file name as the new files being added to the sub directory.\n",
    "#### Note if the test, train and valid directories exist and have content, and the user elects 'c' to continue\n",
    "#### sub directories and files from the s_dir are appended to the content of the test, train and valid subdirectories\n",
    "#### in the dest_dir\n",
    "#### This function utlilizes tqdm and sklearn which must be installed in your working environment\n"
   ]
  },
  {
   "cell_type": "code",
   "execution_count": 1,
   "metadata": {},
   "outputs": [],
   "source": [
    "import os\n",
    "import shutil\n",
    "from tqdm import tqdm\n",
    "from sklearn.model_selection import train_test_split"
   ]
  },
  {
   "cell_type": "code",
   "execution_count": 2,
   "metadata": {},
   "outputs": [],
   "source": [
    "def tr_te_val_split(s_dir, dest_dir, train_size, test_size): \n",
    "    if train_size <0 or train_size >1:\n",
    "        print('*** Train size must be a float between 0.0 and 1.0, process terminated ***')\n",
    "        return\n",
    "    if test_size <0 or test_size >1:\n",
    "        print('*** Test size must be a float between 0.0 and 1.0, process terminated ***')\n",
    "        return\n",
    "    if test_size + train_size >1:\n",
    "        print ('*** The sum of the train size plus the test size must be <= 1, process terminating ***')\n",
    "        return\n",
    "    \n",
    "    remainder= 1-train_size # percent available for test and validation\n",
    "    test_size= test_size/remainder\n",
    "    if os.path.isdir(dest_dir)==False:\n",
    "        os.mkdir(dest_dir)\n",
    "        print ('The dest_dir you specified ', dest_dir, ' does not exist, created it for you ')        \n",
    "    dest_list=os.listdir(dest_dir) # list content of destination directory\n",
    "    for d in ['train', 'test', 'valid']:\n",
    "        d_path=os.path.join(dest_dir,d)\n",
    "        if d not in dest_list:\n",
    "            os.mkdir(d_path)  # create train, test and valid directories in the destination directory\n",
    "        else: # check to see if there are any files in these directories\n",
    "            d_list=os.listdir(d_path)\n",
    "            if len(d_list) > 0:  # there are files or directories in d\n",
    "                cycle=True\n",
    "                print('*** WARNING***  there is content in ', d_path)\n",
    "                while cycle:\n",
    "                    ans=input(' enter D to delete content, C to continue and keep content or Q to Quit ')\n",
    "                    if ans not in ['D', 'd', 'C', 'c', 'Q', 'q']:\n",
    "                        print('your response ', ans, ' was not a  D, C or Q, try again')\n",
    "                    else:\n",
    "                        cycle=False\n",
    "                        if ans in ['Q', 'q']:\n",
    "                            print ('**** PROCESS TERMINATED BY USER ****')\n",
    "                            return\n",
    "                        else:\n",
    "                            if ans in ['D', 'd']:\n",
    "                                print(' Removing all files and sub directories in ', d_path)\n",
    "                                for f in d_list:\n",
    "                                    f_path=os.path.join (d_path,f)\n",
    "                                    if os.path.isdir(f_path):                                        \n",
    "                                        shutil.rmtree(f_path)                                        \n",
    "                                    else:\n",
    "                                        os.remove(f_path)\n",
    "            \n",
    "    class_list=os.listdir(s_dir)  # listof classes     \n",
    "    for klass in tqdm(class_list): # iterate through the classes\n",
    "        klass_path=os.path.join(s_dir, klass) # path to class directory\n",
    "        f_list=os.listdir(klass_path) # get the list of file names\n",
    "        ftrain, ftv= train_test_split(f_list, train_size=train_size, random_state=123 )\n",
    "        ftest, fvalid= train_test_split(ftv, train_size= test_size, random_state=123 )        \n",
    "        for d in ['train', 'test', 'valid']:\n",
    "            d_path=os.path.join(dest_dir,d)\n",
    "            d_class_path=os.path.join(d_path,klass)\n",
    "            if os.path.isdir(d_class_path)==False:\n",
    "                os.mkdir(d_class_path)\n",
    "            if d=='train':\n",
    "                fx=ftrain\n",
    "            elif d=='test':\n",
    "                fx=ftest\n",
    "            else:\n",
    "                fx=fvalid\n",
    "            for f in fx:\n",
    "                f_path=os.path.join(klass_path, f)\n",
    "                d_f_path=os.path.join(d_class_path,f)\n",
    "                shutil.copy(f_path, d_f_path)\n",
    "    for d in ['train', 'test', 'valid']:\n",
    "        file_count=0\n",
    "        d_path=os.path.join(dest_dir, d)\n",
    "        d_list=os.listdir(d_path)\n",
    "        for klass in d_list:\n",
    "            klass_path=os.path.join(d_path, klass)\n",
    "            klass_list=os.listdir(klass_path)\n",
    "            d_count=len(klass_list)\n",
    "            file_count=file_count + d_count\n",
    "            if d == 'train':\n",
    "                tr_count=file_count\n",
    "            elif d =='test':\n",
    "                te_count=file_count\n",
    "            else:\n",
    "                tv_count=file_count\n",
    "    print ('Process Completed ', tr_count, ' training files ', te_count, ' test files and ', tv_count, ' validation files were partitioned')\n",
    "    \n",
    "        "
   ]
  },
  {
   "cell_type": "code",
   "execution_count": 4,
   "metadata": {},
   "outputs": [
    {
     "name": "stdout",
     "output_type": "stream",
     "text": [
      "*** WARNING***  there is content in  C:\\Temp\\natural\\train\n",
      " enter D to delete content, C to continue and keep content or Q to Quit c\n",
      "*** WARNING***  there is content in  C:\\Temp\\natural\\test\n",
      " enter D to delete content, C to continue and keep content or Q to Quit c\n",
      "*** WARNING***  there is content in  C:\\Temp\\natural\\valid\n",
      " enter D to delete content, C to continue and keep content or Q to Quit c\n"
     ]
    },
    {
     "name": "stderr",
     "output_type": "stream",
     "text": [
      "100%|████████████████████████████████████████████████████████████████████████████████████| 2/2 [00:02<00:00,  1.35s/it]"
     ]
    },
    {
     "name": "stdout",
     "output_type": "stream",
     "text": [
      "Process Completed  5996  training files  750  test files and  753  validation files were partitioned\n"
     ]
    },
    {
     "name": "stderr",
     "output_type": "stream",
     "text": [
      "\n"
     ]
    }
   ],
   "source": [
    "source_dir=r'C:\\Temp\\\\people\\test'\n",
    "destination_dir=r'C:\\Temp\\natural'\n",
    "train_percent=.8\n",
    "test_percent=.10\n",
    "tr_te_val_split(source_dir, destination_dir, train_percent, test_percent)"
   ]
  },
  {
   "cell_type": "code",
   "execution_count": null,
   "metadata": {},
   "outputs": [],
   "source": []
  },
  {
   "cell_type": "code",
   "execution_count": null,
   "metadata": {},
   "outputs": [],
   "source": []
  },
  {
   "cell_type": "code",
   "execution_count": null,
   "metadata": {},
   "outputs": [],
   "source": []
  }
 ],
 "metadata": {
  "kernelspec": {
   "display_name": "Python 3",
   "language": "python",
   "name": "python3"
  },
  "language_info": {
   "codemirror_mode": {
    "name": "ipython",
    "version": 3
   },
   "file_extension": ".py",
   "mimetype": "text/x-python",
   "name": "python",
   "nbconvert_exporter": "python",
   "pygments_lexer": "ipython3",
   "version": "3.7.7"
  }
 },
 "nbformat": 4,
 "nbformat_minor": 4
}
