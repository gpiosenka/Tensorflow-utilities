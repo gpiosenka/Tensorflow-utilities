{
 "cells": [
  {
   "cell_type": "markdown",
   "metadata": {},
   "source": [
    "### This function renames files in a directory and if specied will resize the images\n",
    "####  rename (source_dir, snum, new_ext, resize) where:\n",
    "#### source_dir is the full path to the directory containing the image files to be processed\n",
    "#### snum is an integer. If set to 0 the file names will not be changes but the files can be still be converted\n",
    "#### to a new image format and also be resized\n",
    "#### if snum is a non 0 integer the files are renamed in numerical sequence starting with the value of snum.\n",
    "#### note file are renumber with \"zeros\" padding so that files are processedby python functions based on\n",
    "#### their numerical order.\n",
    "#### new_ext is a string specifying the new image format the files should be converted to.\n",
    "#### note only these extensions are allowed 'jpg', 'jpe', 'jpeg', 'png', 'bmp', 'tiff'\n",
    "#### if next_ext='same' the files will be kept in their original format\n",
    "#### resize specifies the new size for the images. If resize='same' the images are new resized\n",
    "#### if not set to 'same' resize must be a tuple of the form (height,width) where height and width\n",
    "#### are integers.\n",
    "#### To use this function cv2 and tqdm must be installed in your working environment\n",
    "#### Note only files of the type listed under extensions above can be processed.\n",
    "#### if a file in the source_dir is not of the type that can be processed by cv2.imread, an exception\n",
    "#### occurs and a message is printed saying the file has been deleted from the directory."
   ]
  },
  {
   "cell_type": "code",
   "execution_count": 1,
   "metadata": {},
   "outputs": [],
   "source": [
    "import os\n",
    "import cv2\n",
    "from tqdm import tqdm"
   ]
  },
  {
   "cell_type": "code",
   "execution_count": 2,
   "metadata": {},
   "outputs": [],
   "source": [
    "def rename (source_dir, snum, new_ext, resize):\n",
    "    ext_list=['jpg', 'jpe', 'jpeg', 'png', 'bmp', 'tiff']\n",
    "    if new_ext not in ext_list and new_ext !='same': # make sure new extension if specified is in acceptable list\n",
    "        msg='\\nthe new extension you specified {0} is not in the list of acceptable extensions '\n",
    "        print(msg.format(new_ext))\n",
    "        print('The list of valid extensions is ', ext_list, ' **** program terminated ****')\n",
    "        return\n",
    "    if resize !='same':\n",
    "        if type(resize) is not tuple:\n",
    "            msg='\\ the entry for resize {0} is not a proper tuple '\n",
    "            print(msg.format(resize))\n",
    "            print('resize must either same or of the form (width, height)  where width and height are integer **** program terminated ****')\n",
    "            return\n",
    "    f_list=[]\n",
    "    if new_ext !='same':\n",
    "        new_ext=new_ext.lower()\n",
    "    source_list=os.listdir(source_dir) \n",
    "    for f in source_list:\n",
    "        f_path=os.path.join(source_dir, f)\n",
    "        if os.path.isdir(f_path)==False:\n",
    "            f_list.append(f)  # list of file names in source directory\n",
    "    fc=len(f_list)  # determine number of d files to process  \n",
    "    pad=0\n",
    "    mod = 10     \n",
    "    for i in range(1, fc + 1): # skip i=0 because 0 modulo anything is 0 and we don't want to increment pad\n",
    "        if i % mod == 0:\n",
    "            pad=pad+1                    \n",
    "            mod =mod * 10\n",
    "    good=0\n",
    "    i=0\n",
    "    for i in tqdm(range(fc)):\n",
    "        f=f_list[i] \n",
    "        f_path=os.path.join(source_dir,f) #full path to the file\n",
    "        filename=os.path.basename(f_path)\n",
    "        index=f_path.rfind('.') # find location of last . in file name\n",
    "        fname=f_path[:index]    # name of file - no extension\n",
    "        ext=f_path[index + 1:]   # this does not include the period\n",
    "        if ext=='jfif': # jfif files are the same as jpg files so change the extension to jpg\n",
    "            ext='jpg'\n",
    "        if snum !=0: # check if need to rename file\n",
    "            fnew= str(i + snum).zfill(pad+1)  # rename the files name with leading zeros\n",
    "        else:\n",
    "            fnew=fname # use original file name\n",
    "        new_path=os.path.join(source_dir, fnew) \n",
    "        if new_ext != 'same': # check if files will have a new extension\n",
    "            fnew=fnew +'.' + new_ext \n",
    "        else:\n",
    "            fnew=fnew + '.' + ext  # use old extension\n",
    "        new_path= os.path.join (source_dir, fnew) # full path for the newly renamed file        \n",
    "        try:\n",
    "            img=cv2.imread(f_path) \n",
    "            dummy=img.shape\n",
    "            if resize !='same':\n",
    "                img=cv2.resize(img, resize) \n",
    "            os.remove(f_path)\n",
    "            cv2.imwrite(new_path, img)\n",
    "            good=good + 1\n",
    "        except:\n",
    "            print ('image ' ,filename, ' is an invalid image and will be deleted')\n",
    "            os.remove(f_path)\n",
    "    if new_ext=='same':            \n",
    "        msg=' {0} files were renamed and saved with the original extensions'.format(good)\n",
    "    else:\n",
    "         msg='{0} files were renamed and saved with extension {1}'.format(good, new_ext) \n",
    "    print (msg)\n",
    "    return \n"
   ]
  },
  {
   "cell_type": "code",
   "execution_count": 3,
   "metadata": {},
   "outputs": [
    {
     "name": "stderr",
     "output_type": "stream",
     "text": [
      "100%|█████████████████████████████████████████████████████████████████████████████████| 20/20 [00:00<00:00, 152.68it/s]"
     ]
    },
    {
     "name": "stdout",
     "output_type": "stream",
     "text": [
      "20 files were renamed and saved with extension bmp\n"
     ]
    },
    {
     "name": "stderr",
     "output_type": "stream",
     "text": [
      "\n"
     ]
    }
   ],
   "source": [
    "source_dir=r'C:\\Temp\\BIRDS\\predictor test set'\n",
    "snum=1\n",
    "new_ext='bmp'\n",
    "resize='same'\n",
    "rename (source_dir, snum, new_ext, resize )   "
   ]
  },
  {
   "cell_type": "code",
   "execution_count": null,
   "metadata": {},
   "outputs": [],
   "source": []
  }
 ],
 "metadata": {
  "kernelspec": {
   "display_name": "Python 3",
   "language": "python",
   "name": "python3"
  },
  "language_info": {
   "codemirror_mode": {
    "name": "ipython",
    "version": 3
   },
   "file_extension": ".py",
   "mimetype": "text/x-python",
   "name": "python",
   "nbconvert_exporter": "python",
   "pygments_lexer": "ipython3",
   "version": "3.7.7"
  }
 },
 "nbformat": 4,
 "nbformat_minor": 4
}
