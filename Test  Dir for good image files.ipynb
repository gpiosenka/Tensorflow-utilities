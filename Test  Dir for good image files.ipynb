{
 "cells": [
  {
   "cell_type": "markdown",
   "metadata": {},
   "source": [
    "#### This function operates on a directory- s_dir  assuming to have sub directories that contain\n",
    "#### image files. For each subdirectory the list of files is processed to determine if the image files have allowable\n",
    "#### extensions and that the image file is not corrupted (ie it can be read by cv2). If a file has an invalid extension\n",
    "#### or is corrupted it's file path is appended to a list called bad_list. The file is then removed from the sub directory\n",
    "#### and placed in a sub directory of the s_dir called bad_files.\n",
    "#### the list of allowable extensions is provided by the good_exts parameter\n",
    "#### a typical  list of extensions is ['jpg', 'png', 'bmp','tiff','jpeg', 'gif'] and should all be lower case"
   ]
  },
  {
   "cell_type": "code",
   "execution_count": 36,
   "metadata": {},
   "outputs": [],
   "source": [
    "def test_images(s_dir, good_exts):\n",
    "    import os\n",
    "    import cv2\n",
    "    import shutil\n",
    "    bad_list=[]  \n",
    "    processed=0   \n",
    "    for klass in os.listdir(s_dir) :  # iterate through the sub directories \n",
    "        class_path=os.path.join (s_dir, klass) # create path to sub directory \n",
    "        if os.path.isdir(class_path) and klass != 'bad_files':            \n",
    "            for f in os.listdir(class_path): # iterate through the sub directories\n",
    "                processed=processed + 1\n",
    "                f_path=os.path.join(class_path, f) # path to image files\n",
    "                ext=f[f.rfind('.')+1:] # get the files extension\n",
    "                if ext.lower()  not in good_exts:\n",
    "                        bad_list.append(f_path) \n",
    "                else:\n",
    "                    try:\n",
    "                        img=cv2.imread(f_path)\n",
    "                        size=img.shape                            \n",
    "                    except:\n",
    "                        bad_list.append(f_path)\n",
    "    if len(bad_list) >0:\n",
    "        bad_files_path=os.path.join(s_dir, 'bad_files')\n",
    "        if os.path.isdir(bad_files_path)==False:\n",
    "            os.mkdir(bad_files_path)\n",
    "        for f in bad_list:\n",
    "            path_split=f.split('\\\\')\n",
    "            length=len(path_split)\n",
    "            dest_name=path_split[length-2] + '-' + path_split[length-1]\n",
    "            dest_path=os.path.join(bad_files_path, dest_name)\n",
    "            shutil.move(f, dest_path)\n",
    "        print(processed, ' files were processed ', len(bad_list), ' files were removed and stored in ', bad_files_path )\n",
    "    else:\n",
    "        print(processed, ' files were processed ', 'No corrupted image files or files with improper extension were found ')\n",
    "    return  bad_list\n",
    "                    \n",
    "    \n",
    "  "
   ]
  },
  {
   "cell_type": "code",
   "execution_count": 37,
   "metadata": {
    "scrolled": true
   },
   "outputs": [
    {
     "name": "stdout",
     "output_type": "stream",
     "text": [
      "39  files were processed  No corrupted image files or files with improper extension were found \n"
     ]
    }
   ],
   "source": [
    "good_exts=['jpg', 'png', 'bmp','tiff','jpeg', 'gif'] # make a list of acceptable image file types\n",
    "s_dir = r'C:\\Temp\\rename tests'\n",
    "bad_files=test_images(s_dir, good_exts)"
   ]
  },
  {
   "cell_type": "code",
   "execution_count": null,
   "metadata": {},
   "outputs": [],
   "source": []
  }
 ],
 "metadata": {
  "kernelspec": {
   "display_name": "Python 3",
   "language": "python",
   "name": "python3"
  },
  "language_info": {
   "codemirror_mode": {
    "name": "ipython",
    "version": 3
   },
   "file_extension": ".py",
   "mimetype": "text/x-python",
   "name": "python",
   "nbconvert_exporter": "python",
   "pygments_lexer": "ipython3",
   "version": "3.7.7"
  }
 },
 "nbformat": 4,
 "nbformat_minor": 4
}
