{
 "cells": [
  {
   "cell_type": "markdown",
   "metadata": {},
   "source": [
    "#### This function acts as a generator to produce batches of numpy arrays and labels read from a director\n",
    "#### to use first instantiate the class with\n",
    "#### mygen=data_gen(s_dir, batch_size, data_shape, shuffle, num_of_classes,categorical) .flow()where\n",
    "#### s_dir is the full path to the directory contain two subdirectories labeled 'data' and 'labels'\n",
    "####    the data sub directory hold the arrays with extension .npy\n",
    "####   the label directory holds the arrays of integer label values with extension .npy\n",
    "#### batch size is an integer of the number of values the generator will return\n",
    "#### data_shape is a tuple defining the shape of the arrays in the data sub directory\n",
    "#### shuffle is a binary. If true the data for each batch is randomly selected. If set to False\n",
    "#### the data is selected in sequential order as present in the directories\n",
    "#### num_of_classes is an integer specifying the number of classes, that is the maximum\n",
    "#### value of a label. Only used when categorical=True\n",
    "#### categorical  is a binary. If False labels are provided as integers\n",
    "#### If categorical=True  labels are provided as 1 hot vectors\n",
    "#### ,flow causes the generator to read in the data and produce the batch output of the generator\n",
    "#### The outpus of the generator are arrays, labels, array_paths, label_paths\n",
    "#### arrays are the input arrays of the shape(batch_size, data_shape)\n",
    "#### labels are input arrays of the labels of the form  shape(batch_size,) when categorical=False\n",
    "#### and shape(batch_size, num_of_classes if categorical is true\n",
    "#### The generator has two attributes which may be useful\n",
    "#### .label_path contains a sequentially ordered list of all label file names produced by the generator\n",
    "#### .array_path contains a sequentially ordered list of all array file names produced by the generator\n",
    "#### array_paths is an ordered list associated with the input arrays specifying the array name\n",
    "#### label_paths is an ordered list associated with the input labels specifying the array name"
   ]
  },
  {
   "cell_type": "markdown",
   "metadata": {},
   "source": [
    "#### Import needed modules"
   ]
  },
  {
   "cell_type": "code",
   "execution_count": 1,
   "metadata": {},
   "outputs": [],
   "source": [
    "import os\n",
    "import shutil\n",
    "import numpy as np"
   ]
  },
  {
   "cell_type": "markdown",
   "metadata": {},
   "source": [
    "#### Define data_gen class"
   ]
  },
  {
   "cell_type": "code",
   "execution_count": 2,
   "metadata": {},
   "outputs": [],
   "source": [
    "class data_gen():\n",
    "    def __init__(self, s_dir, batch_size, data_shape,shuffle, num_of_classes, categorical):\n",
    "        self.batch_index=0\n",
    "        self.s_dir=s_dir\n",
    "        self.batch_size=batch_size\n",
    "        self.data_dir=os.path.join(self.s_dir, 'data')\n",
    "        self.label_dir= os.path.join(self.s_dir, 'labels')       \n",
    "        self.data_dir_list=os.listdir(self.data_dir)\n",
    "        self.label_dir_list=os.listdir(self.label_dir)\n",
    "        self.length=len(self.data_dir_list)\n",
    "        self.data_shape=data_shape\n",
    "        self.shuffle=shuffle\n",
    "        self.num_of_classes=num_of_classes\n",
    "        self.categorical=categorical\n",
    "        shape_list=[self.batch_size]\n",
    "        for i in self.data_shape:\n",
    "            shape_list.append(i) \n",
    "        self.data_array=np.zeros((tuple(shape_list))) \n",
    "        if not self.categorical:            \n",
    "            self.label_array=np.zeros((self.batch_size))\n",
    "        else:\n",
    "            self.label_array=np.zeros((self.batch_size, self.num_of_classes))  \n",
    "            \n",
    "    # define function to read in batches of arrays and labels  \n",
    "    \n",
    "    def flow(self ):  \n",
    "        self.label_paths=[]\n",
    "        self.array_paths=[]\n",
    "        start=self.batch_index * self.batch_size # set start value of iteration\n",
    "        end=start + self.batch_size   # set end value of iteration yield 1 batch of data\n",
    "        for i in range(start, end):\n",
    "            j=i % self.length\n",
    "            k=j % self.batch_size \n",
    "            if self.shuffle:\n",
    "                m=np.random.randint(0, high=self.length-1, size=None, dtype=int)\n",
    "            else:\n",
    "                m=j            \n",
    "            path_to_data=os.path.join(self.data_dir, self.data_dir_list[m])\n",
    "            path_to_labels=os.path.join(self.label_dir, self.label_dir_list[m])\n",
    "            self.label_paths.append(os.path.basename(path_to_labels))\n",
    "            self.array_paths.append(os.path.basename(path_to_data))\n",
    "            self.data_array[k]=np.load(path_to_data)\n",
    "            if  not categorical:\n",
    "                self.label_array[k]=np.load(path_to_labels) \n",
    "            else:\n",
    "                label_value=np.load(path_to_labels)\n",
    "                label_list=[]\n",
    "                for i in range(self.num_of_classes):\n",
    "                    if i == label_value:\n",
    "                        element=1\n",
    "                    else:\n",
    "                        element=0\n",
    "                    label_list.append(element)                \n",
    "                self.label_array[k]=label_list\n",
    "                \n",
    "        self.batch_index=self.batch_index +1 \n",
    "        yield (self.data_array, self.label_array)\n",
    "        "
   ]
  },
  {
   "cell_type": "markdown",
   "metadata": {},
   "source": [
    "### Example of use"
   ]
  },
  {
   "cell_type": "markdown",
   "metadata": {},
   "source": [
    "#### Create directories c:\\temp\\arrays, c:\\temp\\arrays\\data and c:\\temp\\arrays\\labels\n",
    "#### create an array of shape (70, 28, 28,3)"
   ]
  },
  {
   "cell_type": "code",
   "execution_count": 3,
   "metadata": {
    "scrolled": false
   },
   "outputs": [],
   "source": [
    "length=70 # make 70 arrays of data and labels\n",
    "num_of_classes=10\n",
    "data=np.random.randint(0, 1, size=(70,28, 28,3), dtype=int)\n",
    "label_list=[]\n",
    "for i in range(length):\n",
    "    j=i % 10\n",
    "    label_list.append(j)    \n",
    "labels=np.array(label_list)\n",
    "#labels=np.random.randint(0, num_of_classes-1, size=(100), dtype=int)\n",
    "save_dir=r'c:\\temp\\arrays'\n",
    "data_file_path=os.path.join(save_dir, 'data')\n",
    "label_file_path=os.path.join(save_dir, 'labels')\n",
    "if os.path.isdir(save_dir):\n",
    "    shutil.rmtree(save_dir)\n",
    "    os.mkdir(save_dir)\n",
    "    os.mkdir(data_file_path)\n",
    "    os.mkdir(label_file_path)\n",
    "for i in range (data.shape[0]):\n",
    "    # pad is used to pad the file names with leading zeros so when read in the order is preserved\n",
    "    if i<9:\n",
    "        pad='00'\n",
    "    else:\n",
    "        pad='0'\n",
    "    path_to_data=os.path.join(data_file_path, pad +str(i+1) + '.npy')\n",
    "    np.save(path_to_data, data[i])\n",
    "    path_to_label=os.path.join(label_file_path, pad + str(i+1) + '.npy')\n",
    "    np.save(path_to_label, labels[i])   "
   ]
  },
  {
   "cell_type": "markdown",
   "metadata": {},
   "source": [
    "#### Instantiate an instance of the generator"
   ]
  },
  {
   "cell_type": "code",
   "execution_count": 4,
   "metadata": {},
   "outputs": [],
   "source": [
    "s_dir=r'c:\\temp\\arrays'\n",
    "batch_size=30\n",
    "data_shape=(28,28,3)\n",
    "shuffle=False\n",
    "categorical=True\n",
    "mygen=data_gen(s_dir, batch_size, data_shape, shuffle, num_of_classes, categorical)"
   ]
  },
  {
   "cell_type": "markdown",
   "metadata": {},
   "source": [
    "#### use .flow on the instance to produce a batch of data"
   ]
  },
  {
   "cell_type": "code",
   "execution_count": 5,
   "metadata": {
    "scrolled": false
   },
   "outputs": [
    {
     "name": "stdout",
     "output_type": "stream",
     "text": [
      "Batch number  0\n",
      "      [1. 0. 0. 0. 0. 0. 0. 0. 0. 0.]     001.npy\n",
      "      [0. 1. 0. 0. 0. 0. 0. 0. 0. 0.]     002.npy\n",
      "      [0. 0. 1. 0. 0. 0. 0. 0. 0. 0.]     003.npy\n",
      "      [0. 0. 0. 1. 0. 0. 0. 0. 0. 0.]     004.npy\n",
      "      [0. 0. 0. 0. 1. 0. 0. 0. 0. 0.]     005.npy\n",
      "      [0. 0. 0. 0. 0. 1. 0. 0. 0. 0.]     006.npy\n",
      "      [0. 0. 0. 0. 0. 0. 1. 0. 0. 0.]     007.npy\n",
      "      [0. 0. 0. 0. 0. 0. 0. 1. 0. 0.]     008.npy\n",
      "      [0. 0. 0. 0. 0. 0. 0. 0. 1. 0.]     009.npy\n",
      "      [0. 0. 0. 0. 0. 0. 0. 0. 0. 1.]     010.npy\n",
      "      [1. 0. 0. 0. 0. 0. 0. 0. 0. 0.]     011.npy\n",
      "      [0. 1. 0. 0. 0. 0. 0. 0. 0. 0.]     012.npy\n",
      "      [0. 0. 1. 0. 0. 0. 0. 0. 0. 0.]     013.npy\n",
      "      [0. 0. 0. 1. 0. 0. 0. 0. 0. 0.]     014.npy\n",
      "      [0. 0. 0. 0. 1. 0. 0. 0. 0. 0.]     015.npy\n",
      "      [0. 0. 0. 0. 0. 1. 0. 0. 0. 0.]     016.npy\n",
      "      [0. 0. 0. 0. 0. 0. 1. 0. 0. 0.]     017.npy\n",
      "      [0. 0. 0. 0. 0. 0. 0. 1. 0. 0.]     018.npy\n",
      "      [0. 0. 0. 0. 0. 0. 0. 0. 1. 0.]     019.npy\n",
      "      [0. 0. 0. 0. 0. 0. 0. 0. 0. 1.]     020.npy\n",
      "      [1. 0. 0. 0. 0. 0. 0. 0. 0. 0.]     021.npy\n",
      "      [0. 1. 0. 0. 0. 0. 0. 0. 0. 0.]     022.npy\n",
      "      [0. 0. 1. 0. 0. 0. 0. 0. 0. 0.]     023.npy\n",
      "      [0. 0. 0. 1. 0. 0. 0. 0. 0. 0.]     024.npy\n",
      "      [0. 0. 0. 0. 1. 0. 0. 0. 0. 0.]     025.npy\n",
      "      [0. 0. 0. 0. 0. 1. 0. 0. 0. 0.]     026.npy\n",
      "      [0. 0. 0. 0. 0. 0. 1. 0. 0. 0.]     027.npy\n",
      "      [0. 0. 0. 0. 0. 0. 0. 1. 0. 0.]     028.npy\n",
      "      [0. 0. 0. 0. 0. 0. 0. 0. 1. 0.]     029.npy\n",
      "      [0. 0. 0. 0. 0. 0. 0. 0. 0. 1.]     030.npy\n",
      "Batch number  1\n",
      "      [1. 0. 0. 0. 0. 0. 0. 0. 0. 0.]     031.npy\n",
      "      [0. 1. 0. 0. 0. 0. 0. 0. 0. 0.]     032.npy\n",
      "      [0. 0. 1. 0. 0. 0. 0. 0. 0. 0.]     033.npy\n",
      "      [0. 0. 0. 1. 0. 0. 0. 0. 0. 0.]     034.npy\n",
      "      [0. 0. 0. 0. 1. 0. 0. 0. 0. 0.]     035.npy\n",
      "      [0. 0. 0. 0. 0. 1. 0. 0. 0. 0.]     036.npy\n",
      "      [0. 0. 0. 0. 0. 0. 1. 0. 0. 0.]     037.npy\n",
      "      [0. 0. 0. 0. 0. 0. 0. 1. 0. 0.]     038.npy\n",
      "      [0. 0. 0. 0. 0. 0. 0. 0. 1. 0.]     039.npy\n",
      "      [0. 0. 0. 0. 0. 0. 0. 0. 0. 1.]     040.npy\n",
      "      [1. 0. 0. 0. 0. 0. 0. 0. 0. 0.]     041.npy\n",
      "      [0. 1. 0. 0. 0. 0. 0. 0. 0. 0.]     042.npy\n",
      "      [0. 0. 1. 0. 0. 0. 0. 0. 0. 0.]     043.npy\n",
      "      [0. 0. 0. 1. 0. 0. 0. 0. 0. 0.]     044.npy\n",
      "      [0. 0. 0. 0. 1. 0. 0. 0. 0. 0.]     045.npy\n",
      "      [0. 0. 0. 0. 0. 1. 0. 0. 0. 0.]     046.npy\n",
      "      [0. 0. 0. 0. 0. 0. 1. 0. 0. 0.]     047.npy\n",
      "      [0. 0. 0. 0. 0. 0. 0. 1. 0. 0.]     048.npy\n",
      "      [0. 0. 0. 0. 0. 0. 0. 0. 1. 0.]     049.npy\n",
      "      [0. 0. 0. 0. 0. 0. 0. 0. 0. 1.]     050.npy\n",
      "      [1. 0. 0. 0. 0. 0. 0. 0. 0. 0.]     051.npy\n",
      "      [0. 1. 0. 0. 0. 0. 0. 0. 0. 0.]     052.npy\n",
      "      [0. 0. 1. 0. 0. 0. 0. 0. 0. 0.]     053.npy\n",
      "      [0. 0. 0. 1. 0. 0. 0. 0. 0. 0.]     054.npy\n",
      "      [0. 0. 0. 0. 1. 0. 0. 0. 0. 0.]     055.npy\n",
      "      [0. 0. 0. 0. 0. 1. 0. 0. 0. 0.]     056.npy\n",
      "      [0. 0. 0. 0. 0. 0. 1. 0. 0. 0.]     057.npy\n",
      "      [0. 0. 0. 0. 0. 0. 0. 1. 0. 0.]     058.npy\n",
      "      [0. 0. 0. 0. 0. 0. 0. 0. 1. 0.]     059.npy\n",
      "      [0. 0. 0. 0. 0. 0. 0. 0. 0. 1.]     060.npy\n",
      "Batch number  2\n",
      "      [1. 0. 0. 0. 0. 0. 0. 0. 0. 0.]     061.npy\n",
      "      [0. 1. 0. 0. 0. 0. 0. 0. 0. 0.]     062.npy\n",
      "      [0. 0. 1. 0. 0. 0. 0. 0. 0. 0.]     063.npy\n",
      "      [0. 0. 0. 1. 0. 0. 0. 0. 0. 0.]     064.npy\n",
      "      [0. 0. 0. 0. 1. 0. 0. 0. 0. 0.]     065.npy\n",
      "      [0. 0. 0. 0. 0. 1. 0. 0. 0. 0.]     066.npy\n",
      "      [0. 0. 0. 0. 0. 0. 1. 0. 0. 0.]     067.npy\n",
      "      [0. 0. 0. 0. 0. 0. 0. 1. 0. 0.]     068.npy\n",
      "      [0. 0. 0. 0. 0. 0. 0. 0. 1. 0.]     069.npy\n",
      "      [0. 0. 0. 0. 0. 0. 0. 0. 0. 1.]     070.npy\n",
      "       NOTICE GENERATOR RECYCLES\n",
      "      [1. 0. 0. 0. 0. 0. 0. 0. 0. 0.]     001.npy\n",
      "      [0. 1. 0. 0. 0. 0. 0. 0. 0. 0.]     002.npy\n",
      "      [0. 0. 1. 0. 0. 0. 0. 0. 0. 0.]     003.npy\n",
      "      [0. 0. 0. 1. 0. 0. 0. 0. 0. 0.]     004.npy\n",
      "      [0. 0. 0. 0. 1. 0. 0. 0. 0. 0.]     005.npy\n",
      "      [0. 0. 0. 0. 0. 1. 0. 0. 0. 0.]     006.npy\n",
      "      [0. 0. 0. 0. 0. 0. 1. 0. 0. 0.]     007.npy\n",
      "      [0. 0. 0. 0. 0. 0. 0. 1. 0. 0.]     008.npy\n",
      "      [0. 0. 0. 0. 0. 0. 0. 0. 1. 0.]     009.npy\n",
      "      [0. 0. 0. 0. 0. 0. 0. 0. 0. 1.]     010.npy\n",
      "      [1. 0. 0. 0. 0. 0. 0. 0. 0. 0.]     011.npy\n",
      "      [0. 1. 0. 0. 0. 0. 0. 0. 0. 0.]     012.npy\n",
      "      [0. 0. 1. 0. 0. 0. 0. 0. 0. 0.]     013.npy\n",
      "      [0. 0. 0. 1. 0. 0. 0. 0. 0. 0.]     014.npy\n",
      "      [0. 0. 0. 0. 1. 0. 0. 0. 0. 0.]     015.npy\n",
      "      [0. 0. 0. 0. 0. 1. 0. 0. 0. 0.]     016.npy\n",
      "      [0. 0. 0. 0. 0. 0. 1. 0. 0. 0.]     017.npy\n",
      "      [0. 0. 0. 0. 0. 0. 0. 1. 0. 0.]     018.npy\n",
      "      [0. 0. 0. 0. 0. 0. 0. 0. 1. 0.]     019.npy\n",
      "      [0. 0. 0. 0. 0. 0. 0. 0. 0. 1.]     020.npy\n"
     ]
    }
   ],
   "source": [
    "for k in range (length//batch_size + 1):\n",
    "    data, labels =next(mygen.flow())\n",
    "    print ('Batch number ', k)\n",
    "        # print out the labels each time. \n",
    "    for i in range (batch_size):\n",
    "        print ('     ', labels[i], '   ', mygen.label_paths[i])\n",
    "        if mygen.label_paths[i]=='070.npy':\n",
    "            print ('       NOTICE GENERATOR RECYCLES')\n",
    "    "
   ]
  },
  {
   "cell_type": "code",
   "execution_count": null,
   "metadata": {},
   "outputs": [],
   "source": []
  }
 ],
 "metadata": {
  "kernelspec": {
   "display_name": "Python 3",
   "language": "python",
   "name": "python3"
  },
  "language_info": {
   "codemirror_mode": {
    "name": "ipython",
    "version": 3
   },
   "file_extension": ".py",
   "mimetype": "text/x-python",
   "name": "python",
   "nbconvert_exporter": "python",
   "pygments_lexer": "ipython3",
   "version": "3.7.7"
  }
 },
 "nbformat": 4,
 "nbformat_minor": 4
}
