{
 "cells": [
  {
   "cell_type": "markdown",
   "metadata": {},
   "source": [
    "#### This function downloads image files from BING and stores  them into a directory.\n",
    "#### The form of the call to the function is\n",
    "#### download(output_dir,query,snum, new_ext, limit=100, verbose=0, timeout=10)  where\n",
    "#### output_dir is the full path to the directory where the downloaded files will be stored\n",
    "#### query is a string defining the subject of the files to download - for example query='bird images'\n",
    "#### limit is an integer specifying the maximum number of files to download\n",
    "#### verbose is an integer. If verbose=0 details of the download process are not printed out\n",
    "#### timeout is an integer specifying the max time in seconds to wait for a query response\n",
    "#### When downloading images from BING, the file names are typically long and often unconventional\n",
    "#### and can be difficult to handle if you process the downloaded images\n",
    "#### this function includes the ability to rename the downloaded images in a numerical sequence\n",
    "#### starting with the numerical value of the integer snum. If snum=0 no renaming of the downloaded\n",
    "#### files takes place. Files are renamed in numerical sequence with \"zeros padding\" The number of\n",
    "#### leading zeros in the name is a function of the number of files stored in the output_dir.\n",
    "#### If less than 10 no leading zeros are present, if less than 100, 1 leading 0 is appended. If more\n",
    "#### 1000 are present two leading zeros are present. Zeros padding preserves the file order \n",
    "#### processing in typical python functions\n",
    "#### If snum is not equal to 0 the files are renumbered and you also have the option to modify\n",
    "#### the image format to that specified by the string next_ext. If new_ext='same' the original file\n",
    "#### formats are preserved. If new_ext='jpg\" for example all downloaded images are  converted\n",
    "#### to a jpg format.\n",
    "####  Note: see the import cell below to determine what modules need to be installed"
   ]
  },
  {
   "cell_type": "code",
   "execution_count": null,
   "metadata": {},
   "outputs": [],
   "source": [
    "import os\n",
    "import shutil\n",
    "from pathlib import Path\n",
    "import os\n",
    "import sys\n",
    "import urllib.request\n",
    "import urllib\n",
    "import imghdr\n",
    "import posixpath\n",
    "import re\n",
    "from tqdm import tqdm\n",
    "import cv2"
   ]
  },
  {
   "cell_type": "markdown",
   "metadata": {},
   "source": [
    "#### Function below is the main function"
   ]
  },
  {
   "cell_type": "code",
   "execution_count": 7,
   "metadata": {},
   "outputs": [],
   "source": [
    "def download(output_dir,query,snum, new_ext, limit=100, verbose=0, timeout=10):\n",
    "    adult = 'off'    \n",
    "    image_dir = output_dir\n",
    "    status=check_dir(output_dir)  # checks inputs and looks to see if output_dir contains files      \n",
    "    if status==False:        \n",
    "        return False\n",
    "    bing = Bing(query, limit, output_dir, adult, timeout) # initializes the bing class\n",
    "    bing.run()  # initiates the downloading of images\n",
    "    if snum !=0:\n",
    "        rename (output_dir, snum, new_ext) # renames the downloaded files\n",
    "        "
   ]
  },
  {
   "cell_type": "markdown",
   "metadata": {},
   "source": [
    "#### This function performs checks on the input parameters\n",
    "####  it looks at the output_dir to determine if it already contains files\n",
    "#### If files are present the user is given the option to delete the files,\n",
    "#### move the files from the output_dir to a sub directory called saved files\n",
    "#### or to continue and append new downloaded files into the output_dir"
   ]
  },
  {
   "cell_type": "code",
   "execution_count": 2,
   "metadata": {},
   "outputs": [],
   "source": [
    "def check_dir(dir):\n",
    "    if os.path.isdir(dir)==False:\n",
    "        msg='\\nThe directory you specified {0} does not exist.  Enter C to create it or Q to Quit'.format(dir)\n",
    "        ans=input(msg)\n",
    "        if ans not in ['Q', 'q']:\n",
    "            os.mkdir(dir)\n",
    "            return True\n",
    "        else:\n",
    "            return False\n",
    "    else:\n",
    "        # the directory exists check if it is empty\n",
    "        dir_list=os.listdir(dir) \n",
    "        file_count=0\n",
    "        f_list=[]\n",
    "        for d in dir_list:\n",
    "            d_path=os.path.join (dir, d)\n",
    "            if os.path.isfile(d_path):\n",
    "                file_count = file_count +1\n",
    "                f_list.append(d)\n",
    "        if file_count==0:\n",
    "            return (True, None)   # there are no files in the directory                 \n",
    "        msg='There are {0} files in {1}. Enter C to continue, M to move them, or D to delete them'\n",
    "        ans=input(msg.format(file_count, dir))\n",
    "        run=True        \n",
    "        while run:\n",
    "            if ans not in ['C', 'c', 'M', 'm', 'D', 'd', 'Q', 'q']:\n",
    "                msg=' your response {0} was neither a C, a M or a D, please enter a valid response'.format(ans)\n",
    "                ans=input(msg)                \n",
    "            else:                \n",
    "                run=False \n",
    "                break             \n",
    "        if ans in ['Q', 'q']:\n",
    "             return False\n",
    "        if ans in ['C', 'c']:           \n",
    "            return True\n",
    "        if ans in ['D', 'd']:\n",
    "            for f in f_list:\n",
    "                dir_file_path=os.path.join(dir,f)\n",
    "                if os.path.isfile(dir_file_path):\n",
    "                    os.remove(dir_file_path)\n",
    "            msg='{0} files were removed from {1}'.format(file_count, dir)\n",
    "            print_in_color(msg, (0,255,255),(0,127,127))\n",
    "            return True                    \n",
    "        store_dir_path=os.path.join (dir, 'saved files')\n",
    "        if os.path.isdir(store_dir_path)==False:\n",
    "            print('the storage directory you specified ', store_dir_path, ' does not exist, creating it for you')\n",
    "            os.mkdir(store_dir_path)            \n",
    "        for i in range (file_count):\n",
    "            f=f_list[i]            \n",
    "            store_file_path=os.path.join (store_dir_path,f)\n",
    "            dir_file_path=os.path.join(dir,f)            \n",
    "            shutil.copy(dir_file_path, store_dir_path)\n",
    "            if os.path.isfile(dir_file_path):                \n",
    "                os.remove(dir_file_path)             \n",
    "        msg='{0} files were removed from {1} and stored in {2}'.format(file_count, dir, store_dir_path)\n",
    "        print_in_color(msg, (0,255,255),(0,127,127))\n",
    "        return True  "
   ]
  },
  {
   "cell_type": "markdown",
   "metadata": {},
   "source": [
    "#### This function enables printing a message to the terminal with foreground color\n",
    "#### specified by the rgb tupple fore_tupple and a background color specified by the\n",
    "#### rgb tupple back_tupple"
   ]
  },
  {
   "cell_type": "code",
   "execution_count": 3,
   "metadata": {},
   "outputs": [],
   "source": [
    "def print_in_color(txt_msg,fore_tupple,back_tupple,):\n",
    "    #prints the text_msg in the foreground color specified by fore_tupple with the background specified by back_tupple \n",
    "    #text_msg is the text, fore_tupple is foregroud color tupple (r,g,b), back_tupple is background tupple (r,g,b)\n",
    "    rf,gf,bf=fore_tupple\n",
    "    rb,gb,bb=back_tupple\n",
    "    msg='{0}' + txt_msg\n",
    "    mat='\\33[38;2;' + str(rf) +';' + str(gf) + ';' + str(bf) + ';48;2;' + str(rb) + ';' +str(gb) + ';' + str(bb) +'m' \n",
    "    print(msg .format(mat), flush=True)\n",
    "    print('\\33[0m', flush=True) # returns default print color to back to black\n",
    "    return"
   ]
  },
  {
   "cell_type": "markdown",
   "metadata": {},
   "source": [
    "#### This function renes the files in the output_dir in a numerically sequential fashion starting\n",
    "#### with the value of the integer snum. It will also change the image format based on the\n",
    "#### value of the string new_ext. For example is new_ext='jpg' all files will be converted to\n",
    "#### jpg images. If next_ext='same' the original extensions are unchanged"
   ]
  },
  {
   "cell_type": "code",
   "execution_count": 4,
   "metadata": {},
   "outputs": [],
   "source": [
    "def rename (source_dir, snum=1, new_ext='same', height=None, width=None):\n",
    "    f_dict={}\n",
    "    f_list=[]\n",
    "    if new_ext !='same':\n",
    "        new_ext=new_ext.lower()\n",
    "    ext_list=['jpg', 'jpe', 'jpeg', 'png', 'bmp', 'tiff', 'jfif'] # list of acceptable file types\n",
    "    source_list=os.listdir(source_dir) \n",
    "    for f in source_list:\n",
    "        f_path=os.path.join(source_dir, f)\n",
    "        if os.path.isdir(f_path)==False:\n",
    "            f_list.append(f)\n",
    "    if 2 <1:\n",
    "        pass\n",
    "    else:  #determine the amount of preceeding zeros to pad the file name with to preserve order \n",
    "        pad=0\n",
    "        mod = 10\n",
    "        fc=len(f_list)  # determine number of goodfiles toprocess      \n",
    "        for i in range(1, fc + 1): # skip i=0 because 0 modulo anything is 0 and we don't want to increment pad\n",
    "            if i % mod == 0:\n",
    "                pad=pad+1                    \n",
    "                mod =mod * 10\n",
    "        #  make all file names unique by adding a numeric extension in place of real extension\n",
    "        for i in range(0,fc):\n",
    "            f=f_list[i] \n",
    "            f_path=os.path.join(source_dir,f) #full path to the file\n",
    "            index=f_path.rfind('.')\n",
    "            fname=f_path[:index]\n",
    "            ext=f_path[index:]   # this includes the period (.)\n",
    "            if ext=='.jfif':  # jfif is the same as a jpg file but cv2 and other modules don't process jfif files\n",
    "                ext='.jpg'\n",
    "            #to avoid trying to rename a file with a name that is in the directory\n",
    "            # give each file a new unique numerical extension\n",
    "            #sore the original extension in a dictionay where the key is the file name\n",
    "            fnew=fname +'.' + str(i+1)\n",
    "            new_path=os.path.join(source_dir, fnew)  \n",
    "            os.rename(f_path, new_path)\n",
    "            f_dict[fname]=ext  #key is new file name, value is original extension\n",
    "            #now all full filenames are unique with unique extensions\n",
    "        f_list=os.listdir (source_dir)\n",
    "        i=0\n",
    "        good=0\n",
    "        for d in tqdm(f_list):\n",
    "            d_path=os.path.join (source_dir,d)\n",
    "            if os.path.isdir(d_path)==False:                \n",
    "                index=d_path.rfind('.')\n",
    "                fname=d_path[:index]               \n",
    "                ext=f_dict[fname]                \n",
    "                fname=str(i + snum).zfill(pad+1) + ext\n",
    "                i=i+1\n",
    "                new_path=os.path.join(source_dir, fname)\n",
    "                shutil.copy(d_path,new_path)                \n",
    "                os.remove(d_path)                \n",
    "                if new_ext !=None:                                        \n",
    "                    index=new_path.rfind('.')\n",
    "                    old_ext=new_path[index+1:]\n",
    "                    if new_ext !='same':\n",
    "                        fname=new_path[:index]\n",
    "                        new_name=fname + '.' + new_ext\n",
    "                        img= cv2.imread(new_path)\n",
    "                        cv2.imwrite( new_name, img)                        \n",
    "                        os.remove(new_path)\n",
    "        if new_ext=='same':            \n",
    "            msg=' {0} files were renamed and saved with the original extensions'.format(fc)\n",
    "        else:\n",
    "             msg='{0} files were renamed and saved with new extension {1}'.format(fc, new_ext) \n",
    "        print (msg)\n",
    "        return True"
   ]
  },
  {
   "cell_type": "markdown",
   "metadata": {},
   "source": [
    "#### Class definition "
   ]
  },
  {
   "cell_type": "code",
   "execution_count": 5,
   "metadata": {},
   "outputs": [],
   "source": [
    "class Bing:\n",
    "    def __init__(self, query, limit, output_dir, adult, timeout, filters=''):\n",
    "        self.download_count = 0\n",
    "        self.query = query\n",
    "        self.output_dir = output_dir\n",
    "        self.adult = adult\n",
    "        self.filters = filters\n",
    "\n",
    "        assert type(limit) == int, \"limit must be integer\"\n",
    "        self.limit = limit \n",
    "        assert type(timeout) == int, \"timeout must be integer\"\n",
    "        self.timeout = timeout\n",
    "\n",
    "        self.headers = {'User-Agent': 'Mozilla/5.0 (X11; Fedora; Linux x86_64; rv:60.0) Gecko/20100101 Firefox/60.0'}\n",
    "        self.page_counter = 0\n",
    "\n",
    "    def save_image(self, link, file_path, out_dir): # saves images to the output_dir\n",
    "        request = urllib.request.Request(link, None, self.headers)\n",
    "        image = urllib.request.urlopen(request, timeout=self.timeout).read()\n",
    "        output_dir_list=os.listdir(out_dir)\n",
    "        filename=os.path.basename(file_path)\n",
    "        if filename in output_dir_list: # check if a file with this name is already in the output_dir\n",
    "            if verbose !=0:\n",
    "                print (' file ', filename, ' is a duplicate')\n",
    "            raise # raise an error so the file is not saved this avoids duplicate images\n",
    "        if not imghdr.what(None, image) :\n",
    "            if verbose !=0:\n",
    "                print('[Error]Invalid image, not saving {}\\n'.format(link))\n",
    "            raise\n",
    "        with open(file_path, 'wb') as f:\n",
    "            f.write(image)\n",
    "\n",
    "    def download_image(self, link):\n",
    "        self.download_count += 1\n",
    "\n",
    "        # Get the image link\n",
    "        try:\n",
    "            path = urllib.parse.urlsplit(link).path\n",
    "            filename = posixpath.basename(path).split('?')[0]\n",
    "            file_type = filename.split(\".\")[-1]\n",
    "            if file_type.lower()=='jfif':\n",
    "                file_type='jpg' \n",
    "            if file_type.lower() not in [\"jpe\", \"jpeg\", \"jfif\",  \"tiff\", \"gif\", \"bmp\", \"png\",  \"jpg\"]:\n",
    "                raise  # raise an exception and do not save the file\n",
    "            # Download the image\n",
    "            if verbose != 0:\n",
    "                print('Downloading Image # ', self.download_count) \n",
    "            dest=os.path.join(self.output_dir, filename)\n",
    "            self.save_image(link, dest, self.output_dir)\n",
    "            if verbose != 0:\n",
    "                print( 'Image ', self.download_count, ' saved ', filename, flush=True)\n",
    "        except:\n",
    "            if verbose !=0:\n",
    "                print('image file was a duplicate or failed to get download image for Image ', self.download_count, ' Trying next link')\n",
    "            self.download_count -= 1\n",
    "           \n",
    "\n",
    "    def run(self):\n",
    "        \n",
    "        while self.download_count < self.limit:\n",
    "            \n",
    "            request_url = 'https://www.bing.com/images/async?q=' + urllib.parse.quote_plus(self.query) \\\n",
    "                          + '&first=' + str(self.page_counter) + '&count=' + str(self.limit) \\\n",
    "                          + '&adlt=' + self.adult + '&qft=' + self.filters\n",
    "            request = urllib.request.Request(request_url, None, headers=self.headers)\n",
    "            response = urllib.request.urlopen(request)\n",
    "            html = response.read().decode('utf8')\n",
    "            links = re.findall('murl&quot;:&quot;(.*?)&quot;', html)\n",
    "            for link in links:\n",
    "                if self.download_count < self.limit:\n",
    "                    self.download_image(link)\n",
    "                else:\n",
    "                    break\n",
    "            \n",
    "            self.page_counter += 1\n",
    "        print ('***** Completed downloading of ', self.limit, 'files ******', flush=True)\n",
    "            \n"
   ]
  },
  {
   "cell_type": "markdown",
   "metadata": {},
   "source": [
    "#### Example of use"
   ]
  },
  {
   "cell_type": "code",
   "execution_count": 6,
   "metadata": {
    "scrolled": true
   },
   "outputs": [
    {
     "name": "stdout",
     "output_type": "stream",
     "text": [
      "There are 10 files in c:\\temp\\storage. Enter C to continue, M to move them, or D to delete themd\n",
      "\u001b[38;2;0;255;255;48;2;0;127;127m10 files were removed from c:\\temp\\storage\n",
      "\u001b[0m\n",
      "Downloading Image #  1\n",
      "Image  1  saved  cows-getty.jpg\n",
      "Downloading Image #  2\n",
      "Image  2  saved  cow-field-one-health-uc-davis.jpg\n",
      "Downloading Image #  3\n",
      "Image  3  saved  cow_and_calf.jpg\n",
      "Downloading Image #  4\n",
      "Image  4  saved  brown-Guernsey-cow.jpg\n",
      "Downloading Image #  5\n",
      "Image  5  saved  cows.jpg\n",
      "***** Completed downloading of  5 files ******\n"
     ]
    },
    {
     "name": "stderr",
     "output_type": "stream",
     "text": [
      "100%|████████████████████████████████████████████████████████████████████████████████████| 5/5 [00:00<00:00,  5.88it/s]"
     ]
    },
    {
     "name": "stdout",
     "output_type": "stream",
     "text": [
      "5 files were renamed and saved with new extension png\n"
     ]
    },
    {
     "name": "stderr",
     "output_type": "stream",
     "text": [
      "\n"
     ]
    }
   ],
   "source": [
    "limit=5\n",
    "dest_dir=r'c:\\temp\\storage'\n",
    "query='cow images'\n",
    "verbose=1\n",
    "start_num=1\n",
    "new_ext='png'\n",
    "status=download(output_dir=dest_dir,query=query,snum=start_num, new_ext=new_ext, limit=limit, verbose=verbose, timeout=10)"
   ]
  },
  {
   "cell_type": "code",
   "execution_count": null,
   "metadata": {},
   "outputs": [],
   "source": []
  }
 ],
 "metadata": {
  "kernelspec": {
   "display_name": "Python 3",
   "language": "python",
   "name": "python3"
  },
  "language_info": {
   "codemirror_mode": {
    "name": "ipython",
    "version": 3
   },
   "file_extension": ".py",
   "mimetype": "text/x-python",
   "name": "python",
   "nbconvert_exporter": "python",
   "pygments_lexer": "ipython3",
   "version": "3.7.7"
  }
 },
 "nbformat": 4,
 "nbformat_minor": 4
}
